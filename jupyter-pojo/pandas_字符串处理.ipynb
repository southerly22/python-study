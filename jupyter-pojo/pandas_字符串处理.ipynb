{
 "cells": [
  {
   "cell_type": "code",
   "execution_count": null,
   "id": "43a57bb5",
   "metadata": {},
   "outputs": [],
   "source": [
    "## pandas字符串处理函数\n",
    "    1. 使用方法：先获取Series的str属性，range后再属性上调用函数\n",
    "    2. 只能在字符串列上使用，bin能再数字列上使用\n",
    "    3. df是没有str属相和处理方法的\n",
    "    4. Series.str并不是py的原生字符串，而是自己的一套，delattr部分和原生的一样\n",
    "\n",
    "    "
   ]
  },
  {
   "cell_type": "code",
   "execution_count": 1,
   "id": "f791ffe7",
   "metadata": {},
   "outputs": [],
   "source": [
    "import pandas as pd\n",
    "df = pd.read_csv(\"./ant-learn-python/5分钟学会Python爬取天气数据/beijing_tianqi_2018.csv\")"
   ]
  },
  {
   "cell_type": "code",
   "execution_count": 6,
   "id": "3f76302f",
   "metadata": {},
   "outputs": [
    {
     "data": {
      "text/plain": [
       "0      2018\n",
       "1      2018\n",
       "2      2018\n",
       "3      2018\n",
       "4      2018\n",
       "       ... \n",
       "360    2018\n",
       "361    2018\n",
       "362    2018\n",
       "363    2018\n",
       "364    2018\n",
       "Name: ymd, Length: 365, dtype: object"
      ]
     },
     "execution_count": 6,
     "metadata": {},
     "output_type": "execute_result"
    }
   ],
   "source": [
    "# 按照-切分，取第一列数据\n",
    "df['ymd'].str.split('-').str[0]"
   ]
  },
  {
   "cell_type": "code",
   "execution_count": 8,
   "id": "1f35d822",
   "metadata": {},
   "outputs": [
    {
     "data": {
      "text/plain": [
       "0      2018\n",
       "1      2018\n",
       "2      2018\n",
       "3      2018\n",
       "4      2018\n",
       "       ... \n",
       "360    2018\n",
       "361    2018\n",
       "362    2018\n",
       "363    2018\n",
       "364    2018\n",
       "Name: ymd, Length: 365, dtype: object"
      ]
     },
     "execution_count": 8,
     "metadata": {},
     "output_type": "execute_result"
    }
   ],
   "source": [
    "df['ymd'].str.replace('-','').str.slice(0,4)"
   ]
  },
  {
   "cell_type": "code",
   "execution_count": 9,
   "id": "19a01d28",
   "metadata": {},
   "outputs": [
    {
     "data": {
      "text/plain": [
       "0      2018\n",
       "1      2018\n",
       "2      2018\n",
       "3      2018\n",
       "4      2018\n",
       "       ... \n",
       "360    2018\n",
       "361    2018\n",
       "362    2018\n",
       "363    2018\n",
       "364    2018\n",
       "Name: ymd, Length: 365, dtype: object"
      ]
     },
     "execution_count": 9,
     "metadata": {},
     "output_type": "execute_result"
    }
   ],
   "source": [
    "df['ymd'].str.replace('-','').str[0:4]"
   ]
  },
  {
   "cell_type": "markdown",
   "id": "f896cbaf",
   "metadata": {},
   "source": [
    "### 使用正则表达式\n"
   ]
  },
  {
   "cell_type": "code",
   "execution_count": 11,
   "id": "f7026426",
   "metadata": {},
   "outputs": [],
   "source": [
    "def getYMD(df):\n",
    "    year,month,day = df['ymd'].split('-')\n",
    "    return f\"{year}年{month}月{day}日\"\n",
    "df['日期'] = df.apply(getYMD,axis=1)"
   ]
  },
  {
   "cell_type": "code",
   "execution_count": 27,
   "id": "2d6d8d84",
   "metadata": {},
   "outputs": [
    {
     "data": {
      "text/plain": [
       "0      20180101\n",
       "1      20180102\n",
       "2      20180103\n",
       "3      20180104\n",
       "4      20180105\n",
       "         ...   \n",
       "360    20181227\n",
       "361    20181228\n",
       "362    20181229\n",
       "363    20181230\n",
       "364    20181231\n",
       "Name: 日期, Length: 365, dtype: object"
      ]
     },
     "execution_count": 27,
     "metadata": {},
     "output_type": "execute_result"
    }
   ],
   "source": [
    "df['日期'].str.replace('[年月日]','',regex=True)"
   ]
  }
 ],
 "metadata": {
  "kernelspec": {
   "display_name": "Python [conda env:root] *",
   "language": "python",
   "name": "conda-root-py"
  },
  "language_info": {
   "codemirror_mode": {
    "name": "ipython",
    "version": 3
   },
   "file_extension": ".py",
   "mimetype": "text/x-python",
   "name": "python",
   "nbconvert_exporter": "python",
   "pygments_lexer": "ipython3",
   "version": "3.11.4"
  }
 },
 "nbformat": 4,
 "nbformat_minor": 5
}
